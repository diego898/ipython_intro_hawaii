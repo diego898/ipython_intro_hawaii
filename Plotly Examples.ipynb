{
 "cells": [
  {
   "cell_type": "markdown",
   "metadata": {},
   "source": [
    "Some examples using the excellent Plotly Library"
   ]
  },
  {
   "cell_type": "markdown",
   "metadata": {},
   "source": [
    "# 3D Surface Plot"
   ]
  },
  {
   "cell_type": "code",
   "execution_count": 1,
   "metadata": {
    "collapsed": true
   },
   "outputs": [],
   "source": [
    "# (*) To communicate with Plotly's server, sign in with credentials file\n",
    "import plotly.plotly as py\n",
    "\n",
    "# (*) Useful Python/Plotly tools\n",
    "import plotly.tools as tls\n",
    "\n",
    "# (*) Graph objects to piece together plots\n",
    "from plotly.graph_objs import *\n",
    "\n",
    "import numpy as np  # (*) numpy for math functions and arrays"
   ]
  },
  {
   "cell_type": "code",
   "execution_count": 2,
   "metadata": {
    "collapsed": true
   },
   "outputs": [],
   "source": [
    "# (*) Import the math functions needed in this cell\n",
    "from numpy import pi, cos, exp\n",
    "\n",
    "# Define the function to be plotted\n",
    "def fxy(x, y):\n",
    "    A = 1  # choose a maximum amplitude \n",
    "    return A*(cos(pi*x*y))**2 * exp(-(x**2+y**2)/2.)"
   ]
  },
  {
   "cell_type": "code",
   "execution_count": 3,
   "metadata": {
    "collapsed": true
   },
   "outputs": [],
   "source": [
    "# Choose length of square domain, make row and column vectors\n",
    "L = 4\n",
    "x = y = np.arange(-L/2., L/2., 0.1)  # use a mesh spacing of 0.1\n",
    "yt = y[:, np.newaxis]  # (!) make column vector\n",
    "\n",
    "# Get surface coordinates!\n",
    "z = fxy(x, yt)"
   ]
  },
  {
   "cell_type": "code",
   "execution_count": 4,
   "metadata": {
    "collapsed": true
   },
   "outputs": [],
   "source": [
    "trace1 = Surface(\n",
    "    z=z,  # link the fxy 2d numpy array\n",
    "    x=x,  # link 1d numpy array of x coords\n",
    "    y=y   # link 1d numpy array of y coords\n",
    ")\n",
    "\n",
    "# Package the trace dictionary into a data object\n",
    "data = Data([trace1])"
   ]
  },
  {
   "cell_type": "code",
   "execution_count": 5,
   "metadata": {
    "collapsed": true
   },
   "outputs": [],
   "source": [
    "# Dictionary of style options for all axes\n",
    "axis = dict(\n",
    "    showbackground=True, # (!) show axis background\n",
    "    backgroundcolor=\"rgb(204, 204, 204)\", # set background color to grey\n",
    "    gridcolor=\"rgb(255, 255, 255)\",       # set grid line color\n",
    "    zerolinecolor=\"rgb(255, 255, 255)\",   # set zero grid line color\n",
    ")\n",
    "\n",
    "# Make a layout object\n",
    "layout = Layout(\n",
    "    title='$f(x,y) = A \\cos(\\pi x y) e^{-(x^2+y^2)/2}$', # set plot title\n",
    "    scene=Scene(  # (!) axes are part of a 'scene' in 3d plots\n",
    "        xaxis=XAxis(axis), # set x-axis style\n",
    "        yaxis=YAxis(axis), # set y-axis style\n",
    "        zaxis=ZAxis(axis)  # set z-axis style\n",
    "    )\n",
    ")"
   ]
  },
  {
   "cell_type": "code",
   "execution_count": 6,
   "metadata": {
    "collapsed": false,
    "scrolled": false
   },
   "outputs": [
    {
     "data": {
      "text/html": [
       "<iframe id=\"igraph\" scrolling=\"no\" style=\"border:none;\"seamless=\"seamless\" src=\"https://plot.ly/~diego898/50.embed\" height=\"525\" width=\"100%\"></iframe>"
      ],
      "text/plain": [
       "<plotly.tools.PlotlyDisplay object>"
      ]
     },
     "execution_count": 6,
     "metadata": {},
     "output_type": "execute_result"
    }
   ],
   "source": [
    "# Make a figure object\n",
    "fig = Figure(data=data, layout=layout)\n",
    "\n",
    "# (@) Send to Plotly and show in notebook\n",
    "py.iplot(fig, filename='s8_surface')"
   ]
  },
  {
   "cell_type": "markdown",
   "metadata": {},
   "source": [
    "# Fractal Trees"
   ]
  },
  {
   "cell_type": "code",
   "execution_count": 14,
   "metadata": {
    "collapsed": false
   },
   "outputs": [],
   "source": [
    "from math import pi as PI\n",
    "from math import sin, cos\n",
    "import random\n",
    "\n",
    "from plotly.widgets import GraphWidget\n",
    "from plotly.graph_objs import *\n",
    "import plotly.plotly as py\n",
    "import plotly.tools as tls\n",
    "\n",
    "from IPython.html import widgets \n",
    "from IPython.display import display, clear_output\n",
    "\n",
    "root = 12\n"
   ]
  },
  {
   "cell_type": "code",
   "execution_count": 15,
   "metadata": {
    "collapsed": true
   },
   "outputs": [],
   "source": [
    "# color the tree with a gradient from root_col to tip_col\n",
    "# interpolate linearly to get color at a given position in the gradient\n",
    "def get_col(root_col, tip_col, iterat):\n",
    "    r = ((iterat*1.0/root)*(root_col[0]-tip_col[0]))+tip_col[0]\n",
    "    g = ((iterat*1.0/root)*(root_col[1]-tip_col[1]))+tip_col[1]\n",
    "    b = ((iterat*1.0/root)*(root_col[2]-tip_col[2]))+tip_col[2]\n",
    "    return '#%02x%02x%02x' % (r,g,b)\n",
    "    \n",
    "def tree_graph(iterat=12, branch_angle=18.0):\n",
    "    # angle to radian factor\n",
    "    ang2rad = PI/180.0\n",
    "    # experiment with trunk length (try 120)\n",
    "    t = 120\n",
    "    # experiment with factor to contract the trunk each iteratation (try 0.7)\n",
    "    r = 0.7\n",
    "    # starting orientation (initial 90 deg)\n",
    "    theta = 90.0 * ang2rad\n",
    "    # experiment with angle of the branch (try 18 deg)\n",
    "    dtheta = branch_angle * ang2rad\n",
    "    # experiment with gradient color choices\n",
    "    root_col = (40,40,40)\n",
    "    tip_col = (250,250,250)\n",
    "    # experiment with factor to increase random angle variation as child branches get smaller\n",
    "    iterscale = 6.0\n",
    "    # center of bottom\n",
    "    origin = (250, 500)\n",
    "    root=iterat\n",
    "    # make the tree\n",
    "    \n",
    "    def fractal_tree(lines, iterat, origin, t, r, theta, dtheta, root_col, tip_col, randomize=False):\n",
    "        \"\"\"\n",
    "        draws branches\n",
    "        iterat:     iteratation number, stop when iterat == 0\n",
    "        origin:   x,y coordinates of the start of this branch\n",
    "        t:        current trunk length\n",
    "        r:        factor to contract the trunk each iteratation\n",
    "        theta:    starting orientation\n",
    "        dtheta:   angle of the branch\n",
    "        \"\"\"\n",
    "        if iterat == 0:\n",
    "            return lines\n",
    "        # render the branch\n",
    "        x0, y0 = origin\n",
    "\n",
    "        # randomize the length\n",
    "        randt = random.random()*t\n",
    "        if randomize:\n",
    "            x, y = x0 + randt * cos(theta), y0 - randt * sin(theta)\n",
    "        else:\n",
    "            x, y = x0 + cos(theta), y0 - sin(theta)\n",
    "        # color the branch according to its position in the tree\n",
    "        col = get_col(root_col, tip_col, iterat)\n",
    "        # add to traces\n",
    "        lines.append(Scatter(x=[x0, x], y=[y0, y], mode='lines', line=Line(color=col, width=1)))\n",
    "        # recursive calls\n",
    "        if randomize:\n",
    "            fractal_tree(lines, iterat-1, (x,y), t * r, r, theta + (random.random())*(iterscale/(iterat+1))*dtheta, dtheta, root_col, tip_col, randomize)\n",
    "            fractal_tree(lines, iterat-1, (x,y), t * r, r, theta - (random.random())*(iterscale/(iterat+1))*dtheta, dtheta, root_col, tip_col, randomize) \n",
    "        else: \n",
    "            fractal_tree(lines, iterat-1, (x,y), t * r, r, theta + dtheta, dtheta, root_col, tip_col, randomize)\n",
    "            fractal_tree(lines, iterat-1, (x,y), t * r, r, theta - dtheta, dtheta, root_col, tip_col, randomize)\n",
    "    \n",
    "    lines = []\n",
    "    fractal_tree(lines, iterat, origin, t, r, theta, dtheta, root_col, tip_col, True)\n",
    "    \n",
    "    # group the lines by similar color\n",
    "    branches = {}\n",
    "    for line in lines:\n",
    "        color = line['line']['color']\n",
    "        if color not in branches:\n",
    "            branches[color] = line\n",
    "        else:\n",
    "            branches[color]['x'].extend(line['x'])\n",
    "            branches[color]['y'].extend(line['y'])\n",
    "            branches[color]['x'].append(None)\n",
    "            branches[color]['y'].append(None)\n",
    "            \n",
    "    \n",
    "    branch_data = [branches[c] for c in branches]\n",
    "    \n",
    "    return branch_data"
   ]
  },
  {
   "cell_type": "code",
   "execution_count": 16,
   "metadata": {
    "collapsed": false
   },
   "outputs": [],
   "source": [
    "g = GraphWidget('https://plot.ly/~chris/4103')\n",
    "\n",
    "iterations = widgets.IntSliderWidget()\n",
    "iterations.min= 2\n",
    "iterations.max= 14\n",
    "iterations.value = 12\n",
    "iterations.description = 'iterations'\n",
    "\n",
    "branch_angle = widgets.IntSliderWidget()\n",
    "branch_angle.min = 5\n",
    "branch_angle.max = 90\n",
    "branch_angle.value = 18\n",
    "branch_angle.description = 'branch angle'\n",
    "\n",
    "seed = widgets.ButtonWidget()\n",
    "seed.description = 'Grow a new tree'\n",
    "\n",
    "def regraph_tree(_):\n",
    "    branch_data = tree_graph(iterations.value, branch_angle.value)\n",
    "\n",
    "    g.restyle({'x': [[]], 'y': [[]]})\n",
    "    g.add_traces(branch_data)\n",
    "\n",
    "iterations.on_trait_change(regraph_tree, 'value')\n",
    "branch_angle.on_trait_change(regraph_tree, 'value')\n",
    "seed.on_click(regraph_tree)\n",
    "    \n",
    "display(iterations)\n",
    "display(branch_angle)\n",
    "display(seed)\n",
    "display(g)"
   ]
  },
  {
   "cell_type": "code",
   "execution_count": 10,
   "metadata": {
    "collapsed": true
   },
   "outputs": [],
   "source": [
    "layout = Layout(yaxis=YAxis(autorange='reversed'), width=500, showlegend=False)\n",
    "\n",
    "g.relayout(layout)"
   ]
  },
  {
   "cell_type": "markdown",
   "metadata": {},
   "source": [
    "# Widget 3D"
   ]
  },
  {
   "cell_type": "code",
   "execution_count": 11,
   "metadata": {
    "collapsed": true
   },
   "outputs": [],
   "source": [
    "from plotly.widgets import GraphWidget\n",
    "\n",
    "from IPython.html import widgets \n",
    "from IPython.display import display, clear_output\n",
    "import numpy as np"
   ]
  },
  {
   "cell_type": "code",
   "execution_count": 12,
   "metadata": {
    "collapsed": false
   },
   "outputs": [
    {
     "name": "stderr",
     "output_type": "stream",
     "text": [
      "WARNING: \"FloatSliderWidget\" is deprecated, please use \"FloatSlider\" instead.\n"
     ]
    }
   ],
   "source": [
    "g = GraphWidget('https://plot.ly/~jackp/2590')\n",
    "x = y = np.arange(-5,5,0.1)\n",
    "yt = x[:,np.newaxis]\n",
    "\n",
    "class z_data:\n",
    "    def __init__(self):\n",
    "        self.z = np.cos(x*yt)+np.sin(x*yt)\n",
    "    \n",
    "    def on_z_change(self, name, old_value, new_value):\n",
    "        self.z = np.cos(x*yt*(new_value+1)/100)+np.sin(x*yt*(new_value+1/100))\n",
    "        self.replot()\n",
    "        \n",
    "    def replot(self):\n",
    "        g.restyle({ 'z': [self.z] })\n",
    "\n",
    "z_slider = widgets.FloatSliderWidget(min=0,max=3,value=1,step=0.05)\n",
    "z_slider.description = 'Frequency'\n",
    "z_slider.value = 1\n",
    "\n",
    "z_state = z_data()\n",
    "z_slider.on_trait_change(z_state.on_z_change, 'value')"
   ]
  },
  {
   "cell_type": "code",
   "execution_count": 13,
   "metadata": {
    "collapsed": true
   },
   "outputs": [],
   "source": [
    "display(z_slider)\n",
    "display(g)"
   ]
  }
 ],
 "metadata": {
  "kernelspec": {
   "display_name": "Python 2",
   "language": "python",
   "name": "python2"
  },
  "language_info": {
   "codemirror_mode": {
    "name": "ipython",
    "version": 2
   },
   "file_extension": ".py",
   "mimetype": "text/x-python",
   "name": "python",
   "nbconvert_exporter": "python",
   "pygments_lexer": "ipython2",
   "version": "2.7.10"
  }
 },
 "nbformat": 4,
 "nbformat_minor": 0
}
